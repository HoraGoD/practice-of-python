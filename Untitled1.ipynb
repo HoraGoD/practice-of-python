{
 "cells": [
  {
   "cell_type": "markdown",
   "metadata": {
    "collapsed": true
   },
   "source": [
    "1. 다음 6 개의 Expression에 대해 Evaluation 결과 값을 출력하고, 해당 결과가 나온 이유에 대해 설명하시오\n",
    "1 and 2 and 3 and 4\n",
    "1 or 2 or 3 or 4\n",
    "1 and 2 or 3 and 4\n",
    "(1 and 2) or (3 and 4)\n",
    "1 or 2 and 3 or 4\n",
    "(1 or 2) and (3 or 4)"
   ]
  },
  {
   "cell_type": "code",
   "execution_count": 11,
   "metadata": {
    "collapsed": false
   },
   "outputs": [
    {
     "data": {
      "text/plain": [
       "4"
      ]
     },
     "execution_count": 11,
     "metadata": {},
     "output_type": "execute_result"
    }
   ],
   "source": [
    "1 and 2 and 3 and 4"
   ]
  },
  {
   "cell_type": "markdown",
   "metadata": {},
   "source": [
    "and 연산자는 제일 앞의 값이 참이면 뒤의 값을 계속 확인해 봐야된다. 1 2 3 4 모두 참이므로 제일 뒤의 값이 4가 저장된게 된다."
   ]
  },
  {
   "cell_type": "code",
   "execution_count": 3,
   "metadata": {
    "collapsed": false
   },
   "outputs": [
    {
     "data": {
      "text/plain": [
       "1"
      ]
     },
     "execution_count": 3,
     "metadata": {},
     "output_type": "execute_result"
    }
   ],
   "source": [
    "1 or 2 or 3 or 4"
   ]
  },
  {
   "cell_type": "markdown",
   "metadata": {},
   "source": [
    "or같은경우 앞에가 true면 전체가 다 true가 되므로 1이 출력이된다."
   ]
  },
  {
   "cell_type": "code",
   "execution_count": 10,
   "metadata": {
    "collapsed": false
   },
   "outputs": [
    {
     "data": {
      "text/plain": [
       "2"
      ]
     },
     "execution_count": 10,
     "metadata": {},
     "output_type": "execute_result"
    }
   ],
   "source": [
    "1 and 2 or 3 and 4"
   ]
  },
  {
   "cell_type": "markdown",
   "metadata": {},
   "source": [
    "and와 or의 우선순위가 같으므로 앞에서 부터 차례대로 봐야되는데 먼저 1 and 2의 경우 앞에도 참이고 뒤에도 참이므로 2가 저장이된다. 2 or 3 and4는 or에서 2의값이 참이 되므로 2의 값이 저장이 된다."
   ]
  },
  {
   "cell_type": "code",
   "execution_count": 5,
   "metadata": {
    "collapsed": false
   },
   "outputs": [
    {
     "data": {
      "text/plain": [
       "2"
      ]
     },
     "execution_count": 5,
     "metadata": {},
     "output_type": "execute_result"
    }
   ],
   "source": [
    " (1 and 2) or (3 and 4)    "
   ]
  },
  {
   "cell_type": "markdown",
   "metadata": {},
   "source": [
    "먼저 괄호 안에 있는 각각의 연산자를 확인해보면 1and2는 둘다 true이므로 뒤의값이 출력되고 3 and4도 마찬가지이다. 결과적으로\n",
    "2 or 4가 되는데 앞에값이 참이므로 2가 출력 이된다."
   ]
  },
  {
   "cell_type": "code",
   "execution_count": 13,
   "metadata": {
    "collapsed": false
   },
   "outputs": [
    {
     "data": {
      "text/plain": [
       "1"
      ]
     },
     "execution_count": 13,
     "metadata": {},
     "output_type": "execute_result"
    }
   ],
   "source": [
    "1 or 2 and 3 or 4"
   ]
  },
  {
   "cell_type": "markdown",
   "metadata": {},
   "source": [
    "먼저 1 or 2만 봐도 앞의 값이 참이면 뒤의값도 참이 된다. or에서는 제일 앞의 값이 저장되므로 1이 출력이 된다."
   ]
  },
  {
   "cell_type": "code",
   "execution_count": 7,
   "metadata": {
    "collapsed": false
   },
   "outputs": [
    {
     "data": {
      "text/plain": [
       "3"
      ]
     },
     "execution_count": 7,
     "metadata": {},
     "output_type": "execute_result"
    }
   ],
   "source": [
    "(1 or 2) and (3 or 4)"
   ]
  },
  {
   "cell_type": "markdown",
   "metadata": {},
   "source": [
    "먼저 각각 괄호 안에있는 수식을 확인해보면 1or2의 경우 앞의값이 참이므로 1이 저장이 되고 3 or4의 경우 3의 값이 저장이 된다.\n",
    "그럼 1 and 3 이 되는데 앞의 값이 참이므로 뒤의 값도 확인해보면 참이 되므로 3이 출력되게 된다."
   ]
  },
  {
   "cell_type": "markdown",
   "metadata": {},
   "source": [
    "2.키보드로 정수값을 입력 받고 그 값이 양수인지 음수인지를 비트 연산자를 이용하여 판단하는 프로그램을 작성하시오.\n",
    " \n",
    "▶[참고] 가장 왼쪽에 있는 비트가 0이면 양수이며, 1이면 음수이다.\n",
    "▶[참고] 수업보충자료 (https://github.com/bluebibi/python-e-learning/blob/master/supplement.ipynb) 를 참고하시오."
   ]
  },
  {
   "cell_type": "code",
   "execution_count": 37,
   "metadata": {
    "collapsed": false
   },
   "outputs": [
    {
     "name": "stdout",
     "output_type": "stream",
     "text": [
      "number = 3\n",
      "0b11\n",
      "양수입니다.\n"
     ]
    }
   ],
   "source": [
    "import math\n",
    "def bitcounter(n):\n",
    "    return mth.floor(math.log(n,2)) + 1\n",
    "\n",
    "num = input(\"number = \")\n",
    "print bin(num) \n",
    "if bin(num).startswith('0'):\n",
    "    print \"양수입니다.\"\n",
    "else:\n",
    "    print \"음수입니다.\"\n"
   ]
  },
  {
   "cell_type": "markdown",
   "metadata": {},
   "source": [
    "먼저 사용자에게 숫자를 입력받고 2진코드로 입력받은 숫자를 바꿉니다.\n",
    "바꾼 이진문자열이 0으로 시작하면 양수 1로 시작하면 음수로 출력합니다."
   ]
  },
  {
   "cell_type": "markdown",
   "metadata": {},
   "source": [
    "3.경로에 해당하는 문자열 1개를 입력 받아 그 안에 디렉토리 경로명과 파일명을 분리하여 리스트로 반환하는 함수 div_path(s)를 작성하시오.\n",
    "▶ 인자로 전달하는 문자열은 경로만 들어간다고 가정한다.\n",
    "▶ 각 디렉토리와 파일을 구분하는 문자는 '/'로 가정한다.\n",
    "▶ 반환하는 리스트의 첫번째 원소는 디렉토리이고 두번째 원소는 파일명이다.\n",
    "▶ 다음과 같은 실행 및 출력 결과가 도출되어야 한다.\n",
    "▷ div_path('/usr/local/bin/python')\n",
    "▷ ['/usr/local/bin', 'python']\n",
    "▷ div_path('/home/chulsoo/test.txt')\n",
    "▷ ['/home/chulsoo', 'test.txt']\n",
    "▶ [참고] 리스트(l) 내에 새로운 정수값 (예를 들어 10)을 넣는 방법은 l.append(10) 이다.\n",
    " "
   ]
  },
  {
   "cell_type": "code",
   "execution_count": 4,
   "metadata": {
    "collapsed": false
   },
   "outputs": [
    {
     "name": "stdout",
     "output_type": "stream",
     "text": [
      "word = ihave a dream/python\n",
      "ihave a dream/python\n",
      "['ihave a dream', 'python']\n"
     ]
    }
   ],
   "source": [
    "def div_path(n):\n",
    "    return n.split('/')\n",
    "\n",
    "word = raw_input(\"word = \")\n",
    "print word\n",
    "print div_path(word)"
   ]
  },
  {
   "cell_type": "markdown",
   "metadata": {
    "collapsed": true
   },
   "source": [
    "먼저 div_path함수에 대한 정의를 내립니다. '/'를 기준으로해서 문자열을 리스트로 각각 나눠서 출력하는 함수를 정의했습니다.\n",
    "그 뒤 사용자가 경로를 입력하게 하고 경로를 출력한뒤 div_path함수를 이용해서 나눠진 결과를 리스트로 출력했습니다."
   ]
  },
  {
   "cell_type": "markdown",
   "metadata": {
    "collapsed": true
   },
   "source": [
    " 4.두 개의 리스트를 인자로 받아서 그 두 개의 리스트에 대한 '합집합'을 반환하는 함수 list_union(lista, listb)를 작성하시오.\n",
    " \n",
    " \n",
    "▶인자로 전달하는 리스트 2 개에는 정수값만 들어간다고 가정하자.\n",
    "▶함수 내에서 새로운 리스트를 만들어 그 리스트 내에 인자로 받은 두 리스트의 모든 원소를 넣어 반환한다.\n",
    "▶반환하는 리스트에는 절대로 중복된 원소가 들어 있으면 안된다 (집합의 조건).\n",
    "▶반환하는 리스트는 정렬이 되어 있어야 한다.\n",
    "▶다음과 같은 실행 및 출력 결과가 도출되어야 한다.\n",
    " ▷ list_union([1, 2, 3], [1, 2, 4])\n",
    "        ◇  [1, 2, 3, 4]\n",
    " ▷ list_union([-10, -5, 0, -1], [100, 9, 0, 9])\n",
    "        ◇  [-10, -5, -1, 0, 9, 100]\n",
    "▷ list_union([0, 1, 2], [0, 1, 2])\n",
    "        ◇  [0, 1, 2]\n",
    "▶[참고] 리스트(l) 내에 새로운 정수값 (예를 들어 10)을 넣는 방법은 l.append(10) 이다.\n",
    "▶[참고] 임의의 정수값 (x)이 리스트 (l) 내에 존재하는지 판단하는 방법은 x in l 이다."
   ]
  },
  {
   "cell_type": "code",
   "execution_count": 20,
   "metadata": {
    "collapsed": false
   },
   "outputs": [
    {
     "name": "stdout",
     "output_type": "stream",
     "text": [
      "[1, 2, 3, 4, 5, 6, 7, 8, 9]\n"
     ]
    }
   ],
   "source": [
    "def list_union(a, b):\n",
    "    a.sort()\n",
    "    b.sort()\n",
    "    set1 = set(a)\n",
    "    set2 = set(b)\n",
    "    set3 = set(a) | set(b)\n",
    "    list3 = list(set3)\n",
    "    return list3\n",
    "\n",
    "list1 = [1, 3, 2, 4, 6, 5]\n",
    "list2 = [5, 4, 7, 9, 8]\n",
    "\n",
    "print list_union(list1, list2)"
   ]
  },
  {
   "cell_type": "markdown",
   "metadata": {},
   "source": [
    "먼저 list_union이라는 리스트의 합집합을 return해주는 함수를 정의합니다.\n",
    "변수로 각각 a 와 b라는 리스트를 받았을 경우 먼저 .sort()함수로 정렬을 한뒤\n",
    "set형태로 a 와 b를 형변환 해줍니다. 그 뒤 set형에 있는 함수인 |를 써서 합집합을 구한뒤 다시 set3를 list형태로 바꾸고 그 값을 반환시켜줍니다."
   ]
  },
  {
   "cell_type": "markdown",
   "metadata": {},
   "source": [
    "오일러문제 4.\n",
    "앞에서부터 읽을 때나 뒤에서부터 읽을 때나 모양이 같은 수를 대칭수(palindrome)라고 부릅니다.\n",
    "\n",
    "두 자리 수를 곱해 만들 수 있는 대칭수 중 가장 큰 수는 9009 (= 91 × 99) 입니다.\n",
    "\n",
    "세 자리 수를 곱해 만들 수 있는 가장 큰 대칭수는 얼마입니까?"
   ]
  },
  {
   "cell_type": "code",
   "execution_count": 27,
   "metadata": {
    "collapsed": false
   },
   "outputs": [
    {
     "name": "stdout",
     "output_type": "stream",
     "text": [
      "906609\n"
     ]
    }
   ],
   "source": [
    "result = []\n",
    "for i in range(100,1000):\n",
    "    for j in range(100,i):\n",
    "        if i*j == int(str(i*j)[::-1]): result.append(i*j)\n",
    "\n",
    "print max(result)"
   ]
  },
  {
   "cell_type": "markdown",
   "metadata": {},
   "source": [
    "먼저 각각의 3자리 숫자를 차례대로 곱해봐서 슬라이싱을 이용해 만약 앞과 뒤가 같은 대칭수가 되면 result이라는 리스트에 저장한다. 저장된 숫자들 중 최대값을 찾는다."
   ]
  },
  {
   "cell_type": "markdown",
   "metadata": {},
   "source": [
    "오일러문제 5.\n",
    "1 ~ 10 사이의 어떤 수로도 나누어 떨어지는 가장 작은 수는 2520입니다.\n",
    "\n",
    "그러면 1 ~ 20 사이의 어떤 수로도 나누어 떨어지는 가장 작은 수는 얼마입니까?"
   ]
  },
  {
   "cell_type": "code",
   "execution_count": 2,
   "metadata": {
    "collapsed": false
   },
   "outputs": [
    {
     "name": "stdout",
     "output_type": "stream",
     "text": [
      "232792560\n"
     ]
    }
   ],
   "source": [
    "num = 1\n",
    "while(1):\n",
    "    if(num % 2 == 0 and num % 3 == 0 and num % 4 == 0 and num % 5 == 0 and\n",
    "      num % 6 == 0 and num % 7 == 0 and num % 8 == 0 and num % 9 == 0 and \n",
    "      num % 10 == 0 and num % 11 == 0 and num % 12 == 0 and num % 13 == 0 \n",
    "      and num % 14 == 0 and num % 15 == 0 and num % 16 == 0 and num % 17 == 0\n",
    "      and num % 18 == 0 and num % 19 == 0 and num % 20 == 0):\n",
    "        print num\n",
    "        break\n",
    "    num = num + 1"
   ]
  },
  {
   "cell_type": "markdown",
   "metadata": {},
   "source": [
    "2부터 20까지 차례대로 계산해서 나머지가 0이 되면 1부터 20까지의 최대공배수가 됩니다."
   ]
  },
  {
   "cell_type": "markdown",
   "metadata": {},
   "source": [
    "오일러문제 6.\n",
    "1부터 10까지 자연수를 각각 제곱해 더하면 다음과 같습니다 (제곱의 합).\n",
    "\n",
    "12 + 22 + ... + 102 = 385\n",
    "1부터 10을 먼저 더한 다음에 그 결과를 제곱하면 다음과 같습니다 (합의 제곱).\n",
    "\n",
    "(1 + 2 + ... + 10)2 = 552 = 3025\n",
    "따라서 1부터 10까지 자연수에 대해 \"합의 제곱\"과 \"제곱의 합\" 의 차이는 3025 - 385 = 2640 이 됩니다.\n",
    "\n",
    "그러면 1부터 100까지 자연수에 대해 \"합의 제곱\"과 \"제곱의 합\"의 차이는 얼마입니까?"
   ]
  },
  {
   "cell_type": "code",
   "execution_count": 17,
   "metadata": {
    "collapsed": false
   },
   "outputs": [
    {
     "name": "stdout",
     "output_type": "stream",
     "text": [
      "25164150\n"
     ]
    }
   ],
   "source": [
    "a = 0\n",
    "b = 0\n",
    "\n",
    "for i in range(1, 101):\n",
    "    a = a + (i * i)\n",
    "for j in range(1, 101):\n",
    "     b = b + j\n",
    "b = b * b\n",
    "\n",
    "print b - a"
   ]
  },
  {
   "cell_type": "markdown",
   "metadata": {},
   "source": [
    "먼저 a의 값에 1부터 100까지 제곱의 합을 넣어주고 b에는 1부터 100까지 더한 값의 제곱을 넣어줍니다. 그 후 합의 제곱에 제곱의 합을 빼면 결과가 나옵니다."
   ]
  },
  {
   "cell_type": "markdown",
   "metadata": {},
   "source": [
    "[Incremental Project]\n",
    "웹 URL로 지정된 웹페이지를 문자열로 가져와 1) 모든 HTML 태그를 제외한 순수 텍스트 문자열만을 걸러내고, 2) 그 순수 텍스트 문자열 안에 존재하는 단어가 총 몇개인지 출력하는 프로그램을 작성하시오. \n",
    " \n",
    "▶ HTML 태그는 다음 조건을 가지는 것이다.\n",
    "▷ < 로 시작하여 >로 끝난다.\n",
    "▷ 예를 들어, 아래와 같은 HTML 내용 내에 한 줄이 있다고 가정하자.\n",
    "<label for=\"keep_signed\">로그인 유지</label>\n",
    "▷ 위 소스에서 HTML 태그를 제외한 순수 텍스트 문자열은 아래와 같다.\n",
    "로그인 유지\n",
    "▷ 한편, 아래와 같은 HTML 한 줄이 있다고 가정하자.\n",
    "<link rel=\"stylesheet\" href=\"/common/css/xe.min.css?20150910092654\" />\n",
    "▷ 위 소스는 HTML 태그로만 구성된 것이며 걸러낼 수 있는 순수 텍스 문자열은 존재하지 않는다.\n",
    " \n",
    "▶ 단어를 나누는 기준은 오로지 공백문자 (whitespace)이다.\n",
    "▷ 즉, 위 순수 텍스트 문자열인 \"로그인 유지\"에서 분리한 단어는 \"로그인\"과 \"유지\"이다.\n",
    "▶ 다음은 URL로 지정된 웹페이지를 특정 문자열로 가져오는 코드이다.\n",
    "▷ 즉, 숙제 코드는 아래 링크를 참조 해야한다."
   ]
  },
  {
   "cell_type": "code",
   "execution_count": 33,
   "metadata": {
    "collapsed": false
   },
   "outputs": [
    {
     "name": "stdout",
     "output_type": "stream",
     "text": [
      "1626\n"
     ]
    },
    {
     "ename": "TypeError",
     "evalue": "'in <string>' requires string as left operand, not list",
     "output_type": "error",
     "traceback": [
      "\u001b[1;31m---------------------------------------------------------------------------\u001b[0m",
      "\u001b[1;31mTypeError\u001b[0m                                 Traceback (most recent call last)",
      "\u001b[1;32m<ipython-input-33-8116be5d746d>\u001b[0m in \u001b[0;36m<module>\u001b[1;34m()\u001b[0m\n\u001b[0;32m      8\u001b[0m \u001b[0mk\u001b[0m \u001b[1;33m=\u001b[0m \u001b[1;33m[\u001b[0m\u001b[0mchr\u001b[0m\u001b[1;33m(\u001b[0m\u001b[1;36m60\u001b[0m\u001b[1;33m)\u001b[0m\u001b[1;33m]\u001b[0m\u001b[1;33m\u001b[0m\u001b[0m\n\u001b[0;32m      9\u001b[0m \u001b[1;32mfor\u001b[0m \u001b[0mi\u001b[0m \u001b[1;32min\u001b[0m \u001b[0mrange\u001b[0m\u001b[1;33m(\u001b[0m\u001b[1;36m1\u001b[0m\u001b[1;33m,\u001b[0m \u001b[0mlist_length\u001b[0m\u001b[1;33m+\u001b[0m\u001b[1;36m1\u001b[0m\u001b[1;33m)\u001b[0m\u001b[1;33m:\u001b[0m\u001b[1;33m\u001b[0m\u001b[0m\n\u001b[1;32m---> 10\u001b[1;33m     \u001b[1;32mif\u001b[0m \u001b[0mk\u001b[0m \u001b[1;32min\u001b[0m \u001b[0mlist1\u001b[0m\u001b[1;33m[\u001b[0m\u001b[0mi\u001b[0m\u001b[1;33m]\u001b[0m\u001b[1;33m:\u001b[0m\u001b[1;33m\u001b[0m\u001b[0m\n\u001b[0m\u001b[0;32m     11\u001b[0m         \u001b[1;31m#list1.remove(list[i])\u001b[0m\u001b[1;33m\u001b[0m\u001b[1;33m\u001b[0m\u001b[0m\n\u001b[0;32m     12\u001b[0m         \u001b[1;32mdel\u001b[0m \u001b[0mlist1\u001b[0m\u001b[1;33m[\u001b[0m\u001b[0mi\u001b[0m\u001b[1;33m]\u001b[0m\u001b[1;33m\u001b[0m\u001b[0m\n",
      "\u001b[1;31mTypeError\u001b[0m: 'in <string>' requires string as left operand, not list"
     ]
    }
   ],
   "source": [
    "import urllib2\n",
    "\n",
    "source = urllib2.urlopen(\"http://cse.kut.ac.kr/\").read()\n",
    "\n",
    "list1 = source.split()\n",
    "list_length = len(list1)\n",
    "print list_length\n",
    "k = [chr(60)]\n",
    "for i in range(1, list_length+1):\n",
    "    if k in list1[i]:\n",
    "        #list1.remove(list[i])\n",
    "        del list1[i]\n",
    "print list1"
   ]
  },
  {
   "cell_type": "code",
   "execution_count": 36,
   "metadata": {
    "collapsed": false
   },
   "outputs": [
    {
     "name": "stdout",
     "output_type": "stream",
     "text": [
      "1722\n"
     ]
    },
    {
     "ename": "IndexError",
     "evalue": "list index out of range",
     "output_type": "error",
     "traceback": [
      "\u001b[1;31m---------------------------------------------------------------------------\u001b[0m",
      "\u001b[1;31mIndexError\u001b[0m                                Traceback (most recent call last)",
      "\u001b[1;32m<ipython-input-36-2c9e947c6fb1>\u001b[0m in \u001b[0;36m<module>\u001b[1;34m()\u001b[0m\n\u001b[0;32m      8\u001b[0m \u001b[1;33m\u001b[0m\u001b[0m\n\u001b[0;32m      9\u001b[0m \u001b[1;32mfor\u001b[0m \u001b[0mi\u001b[0m \u001b[1;32min\u001b[0m \u001b[0mrange\u001b[0m\u001b[1;33m(\u001b[0m\u001b[1;36m1\u001b[0m\u001b[1;33m,\u001b[0m \u001b[0mlist_length\u001b[0m\u001b[1;33m)\u001b[0m\u001b[1;33m:\u001b[0m\u001b[1;33m\u001b[0m\u001b[0m\n\u001b[1;32m---> 10\u001b[1;33m     \u001b[1;32mif\u001b[0m \u001b[0mlist1\u001b[0m\u001b[1;33m[\u001b[0m\u001b[0mi\u001b[0m\u001b[1;33m]\u001b[0m\u001b[1;33m.\u001b[0m\u001b[0mstartswith\u001b[0m\u001b[1;33m(\u001b[0m\u001b[1;34m'<'\u001b[0m\u001b[1;33m)\u001b[0m\u001b[1;33m:\u001b[0m\u001b[1;33m\u001b[0m\u001b[0m\n\u001b[0m\u001b[0;32m     11\u001b[0m         \u001b[1;32mdel\u001b[0m \u001b[0mlist1\u001b[0m\u001b[1;33m[\u001b[0m\u001b[0mi\u001b[0m\u001b[1;33m]\u001b[0m\u001b[1;33m\u001b[0m\u001b[0m\n\u001b[0;32m     12\u001b[0m \u001b[1;32mprint\u001b[0m \u001b[0mlist1\u001b[0m\u001b[1;33m\u001b[0m\u001b[0m\n",
      "\u001b[1;31mIndexError\u001b[0m: list index out of range"
     ]
    }
   ],
   "source": [
    "import urllib2\n",
    "\n",
    "source = urllib2.urlopen(\"http://cse.kut.ac.kr/\").read()\n",
    "\n",
    "list1 = source.split()\n",
    "list_length = len(list1)\n",
    "print list_length\n",
    "\n",
    "for i in range(1, list_length + 1):\n",
    "    if list1[i].startswith('<'):\n",
    "        del list1[i]\n",
    "print list1"
   ]
  },
  {
   "cell_type": "code",
   "execution_count": null,
   "metadata": {
    "collapsed": true
   },
   "outputs": [],
   "source": []
  }
 ],
 "metadata": {
  "kernelspec": {
   "display_name": "Python 2",
   "language": "python",
   "name": "python2"
  },
  "language_info": {
   "codemirror_mode": {
    "name": "ipython",
    "version": 2
   },
   "file_extension": ".py",
   "mimetype": "text/x-python",
   "name": "python",
   "nbconvert_exporter": "python",
   "pygments_lexer": "ipython2",
   "version": "2.7.9"
  }
 },
 "nbformat": 4,
 "nbformat_minor": 0
}
