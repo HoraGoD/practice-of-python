{
 "cells": [
  {
   "cell_type": "markdown",
   "metadata": {
    "collapsed": true
   },
   "source": [
    "⑴ a=\"Hello Python\" 문자열을 Slicing과 연결 연산자 (+)를 사용하여 \"Python Hello\"로 변경하시오.\n",
    "◎[주의] a 변수 자체에 \"Python Hello\" 문자열이 저장되어야 함\n"
   ]
  },
  {
   "cell_type": "code",
   "execution_count": 11,
   "metadata": {
    "collapsed": false
   },
   "outputs": [
    {
     "name": "stdout",
     "output_type": "stream",
     "text": [
      "Hello \n",
      " Python\n",
      "PythonHello \n"
     ]
    }
   ],
   "source": [
    "a = \"Hello Python\"\n",
    "print a[0:6]\n",
    "print a[5:]\n",
    "a = a[6:12] + a[0:6]\n",
    "print a"
   ]
  },
  {
   "cell_type": "markdown",
   "metadata": {},
   "source": [
    "슬라이싱을 이용하여 Hello 와 Python 문자열을 나눠서 거꾸로 a변수에 저장하여 출력했습니다."
   ]
  },
  {
   "cell_type": "markdown",
   "metadata": {},
   "source": [
    "⑵ b=\"Hello Python World\" 문자열을 Slicing과 연결 연산자 (+)를 사용하여 \"World Python Hello\"로 변경하시오. \n",
    "◎[주의] b 변수 자체에 \"Python Hello\" 문자열이 저장되어야 함"
   ]
  },
  {
   "cell_type": "code",
   "execution_count": 9,
   "metadata": {
    "collapsed": false
   },
   "outputs": [
    {
     "name": "stdout",
     "output_type": "stream",
     "text": [
      "world Python Hello \n"
     ]
    }
   ],
   "source": [
    "b = \"Hello Python world\"\n",
    "b = b[13:18] + b[5:13] + b[0:6]\n",
    "print b"
   ]
  },
  {
   "cell_type": "markdown",
   "metadata": {},
   "source": [
    "1번문제와 마찬가지로 뒤에서부터 슬라이싱하여서 b변수에 저장하여 출력했습니다."
   ]
  },
  {
   "cell_type": "markdown",
   "metadata": {},
   "source": [
    " (3)c=\"Hello\"를 \"olleH\"로 변경하시오.\n",
    "◎[주의] c 변수 자체에 \"olleH\" 문자열이 저장되어야 함"
   ]
  },
  {
   "cell_type": "code",
   "execution_count": 14,
   "metadata": {
    "collapsed": false
   },
   "outputs": [
    {
     "name": "stdout",
     "output_type": "stream",
     "text": [
      "olleH\n"
     ]
    }
   ],
   "source": [
    "c = \"Hello\"\n",
    "c = c[::-1]\n",
    "print c"
   ]
  },
  {
   "cell_type": "markdown",
   "metadata": {},
   "source": [
    "c변수안에 있는 문자열의 각 인덱스를 뒤에서 부터 출력시키게 저장하고 출력했습니다."
   ]
  },
  {
   "cell_type": "markdown",
   "metadata": {},
   "source": [
    "⑷ s=\"python\"에 대해 다음 문제를 풀어보시오.\n",
    "① s[0], s[0][0], s[0][0][0]은 각각 어떤 값이 나오는지 확인하고 그 이유를 나름대로 설명해 보시오.\n",
    "② s[-100], s[100]은 값이 나오는지 에러가 나오는지 확인하고 그 결과에 대한 이유를 나름대로 설명해 보시오.\n",
    "③ s[-100, 100]은 값이 나오는지 에러가 나오는지 확인하고 그 결과에 대한 이유를 나름대로 설명해 보시오.\n",
    "④ s[1:-1]의 결과를 확인하고 그 결과에 대한 이유를 정확하게 설명하시오.\n",
    "⑤ s[3:-3]의 결과를 확인하고 그 결과에 대한 이유를 정확하게 설명하시오."
   ]
  },
  {
   "cell_type": "code",
   "execution_count": 25,
   "metadata": {
    "collapsed": false
   },
   "outputs": [
    {
     "name": "stdout",
     "output_type": "stream",
     "text": [
      "P\n",
      "P\n",
      "P\n",
      "ytho\n",
      "\n"
     ]
    }
   ],
   "source": [
    "s = \"Python\"\n",
    "print s[0]\n",
    "print s[0][0]\n",
    "print s[0][0][0]\n",
    "# s[0], s[0][0], s[0][0][0] 은 모두 s 가 가지고 있는 문자열의 가장 첫번째 인덱스를 가르킵니다.\n",
    "# 때문에 3값 모두 P를 출력하게 됩니다.\n",
    "\n",
    "print s[-100]\n",
    "print s[100]\n",
    "# 스트링 문자열의 범위가 s가 가지고 있는 범위를 한참 벗어났기 때문에 출력이 되지 않습니다.\n",
    "print s[-100, 100]\n",
    "# 역시 스트링 인덱스의 범위를 벗어나서 출력이 되지 않습니다.\n",
    "print s[1:-1]\n",
    "# Python이라는 문자열에서 1번째 인덱스부터 -1이 나오게 될려면 3번째 인덱스가 필요합니다. 때문에  y\n",
    "#y부터 차례대로 y t h o가 출력되게 됩니다.\n",
    "print s[3:-3]\n",
    "# 3번째 인덱스에서 -3단위로 출력해야되는데 그건 s가 가지고 있는 문자열의 범위를 넘어서게 되므로 출력이 되지 않습니다."
   ]
  },
  {
   "cell_type": "markdown",
   "metadata": {},
   "source": [
    "⑸ for문을 활용하여 1부터 100사이의 홀수를 출력하시오."
   ]
  },
  {
   "cell_type": "code",
   "execution_count": 1,
   "metadata": {
    "collapsed": false,
    "scrolled": true
   },
   "outputs": [
    {
     "name": "stdout",
     "output_type": "stream",
     "text": [
      "1 3 5 7 9 11 13 15 17 19 21 23 25 27 29 31 33 35 37 39 41 43 45 47 49 51 53 55 57 59 61 63 65 67 69 71 73 75 77 79 81 83 85 87 89 91 93 95 97 99\n"
     ]
    }
   ],
   "source": [
    "for x in range(1,101):\n",
    "    if x % 2 != 0:\n",
    "        print x,\n",
    "        \n"
   ]
  },
  {
   "cell_type": "markdown",
   "metadata": {},
   "source": [
    "범위를 1부터 100까지 둔 뒤에 만약 x값이 2로 나눠지지 않는다면 x를 출력시켰습니다."
   ]
  },
  {
   "cell_type": "markdown",
   "metadata": {},
   "source": [
    "⑹ while문을 활용하여 1부터 100사이의 짝수의 합을 계산하여 출력하시오."
   ]
  },
  {
   "cell_type": "code",
   "execution_count": 4,
   "metadata": {
    "collapsed": false
   },
   "outputs": [
    {
     "name": "stdout",
     "output_type": "stream",
     "text": [
      "2652\n"
     ]
    }
   ],
   "source": [
    "sum = 0\n",
    "a = 0\n",
    "while a < 101:\n",
    "    a = a + 2\n",
    "    sum = sum + a\n",
    "print sum"
   ]
  },
  {
   "cell_type": "markdown",
   "metadata": {},
   "source": [
    "a가 101보다 작을동안 a에 2씩 추가하고 그 a의 값을 sum에다가 지속적으로 더하여 최종결과값인 sum을 출력했습니다.\n"
   ]
  },
  {
   "cell_type": "markdown",
   "metadata": {
    "collapsed": true
   },
   "source": [
    "⑺ 사용자로 부터 임의의 정수를 입력받고, 해당 숫자를 역순으로 출력하는 프로그램을 작성하시오.\n",
    "[실행 예]\n",
    "정수를 입력하세요: 3125\n",
    "숫자 역순은 5213 입니다."
   ]
  },
  {
   "cell_type": "code",
   "execution_count": 10,
   "metadata": {
    "collapsed": false
   },
   "outputs": [
    {
     "name": "stdout",
     "output_type": "stream",
     "text": [
      "enter number : 12345\n",
      " 54321\n"
     ]
    }
   ],
   "source": [
    "n = raw_input('enter number : ')\n",
    "\n",
    "print n[::-1]"
   ]
  },
  {
   "cell_type": "markdown",
   "metadata": {},
   "source": [
    "먼저 사용자에게 숫자를 문자열형식으로 입력받고 뒤에서부터 입력받은 문자열을 출력하게 했습니다."
   ]
  },
  {
   "cell_type": "markdown",
   "metadata": {
    "collapsed": true
   },
   "source": [
    "⑻ 사용자로 부터 정수를 입력받아서 1부터 그 사이에 존재하는 소수 (Prime number)를 출력하는 파이썬 프로그램을 작성하시오."
   ]
  },
  {
   "cell_type": "code",
   "execution_count": 16,
   "metadata": {
    "collapsed": false
   },
   "outputs": [
    {
     "name": "stdout",
     "output_type": "stream",
     "text": [
      "enter number : 100\n",
      "2 3 5 7 11 13 17 19 23 29 31 37 41 43 47 53 59 61 67 71 73 79 83 89 97\n"
     ]
    }
   ],
   "source": [
    "num = input('enter number : ')\n",
    "cnt = 2\n",
    "\n",
    "while cnt < num:\n",
    "    pri = 1\n",
    "    for x in range(2, cnt):\n",
    "        if cnt % x == 0:\n",
    "            pri = 0\n",
    "            break\n",
    "    if pri == 1:\n",
    "        print cnt,\n",
    "    cnt = cnt + 1"
   ]
  },
  {
   "cell_type": "markdown",
   "metadata": {},
   "source": [
    "사용자에게 먼저 숫자를 입력받습니다. while문을 이용하여 만약 cnt가 숫자보다 작을경우 다시 안에 for문을 사용 2부터 cnt까지의 범위에서\n",
    "만약 cnt가 x에 나눠질 경우 pri는 0으로 초기화  for문을 멈추고 cnt값에 1을 더합니다. 만약 pri가 1로 계속 유지될 경우 이 숫자는 소수이므로\n",
    "cnt를 출력하게 합니다."
   ]
  },
  {
   "cell_type": "markdown",
   "metadata": {},
   "source": [
    "오일러퀴즈 (1)\n",
    "10보다 작은 자연수 중에서 3 또는 5의 배수는 3, 5, 6, 9 이고, 이것을 모두 더하면 23입니다.\n",
    "\n",
    "1000보다 작은 자연수 중에서 3 또는 5의 배수를 모두 더하면 얼마일까요?"
   ]
  },
  {
   "cell_type": "code",
   "execution_count": 19,
   "metadata": {
    "collapsed": false
   },
   "outputs": [
    {
     "name": "stdout",
     "output_type": "stream",
     "text": [
      "233168\n"
     ]
    }
   ],
   "source": [
    "result = 0\n",
    "for num in range(1,1000):\n",
    "    if num % 3 == 0:\n",
    "        result = result + num\n",
    "    elif num % 5 == 0:\n",
    "        result = result + num\n",
    "print result"
   ]
  },
  {
   "cell_type": "markdown",
   "metadata": {},
   "source": [
    "num을 1부터 1000까지의 범위로 두고 만약 num이 3으로 나눠지거나 또는 5로 나누어지면 result값에 num을 지속적으로 더해주고\n",
    "for문이 끝난 후 최종 결과값을 출력합니다."
   ]
  },
  {
   "cell_type": "markdown",
   "metadata": {},
   "source": [
    "오일러퀴즈 (2)\n",
    "피보나치 수열의 각 항은 바로 앞의 항 두 개를 더한 것이 됩니다. 1과 2로 시작하는 경우 이 수열은 아래와 같습니다.\n",
    "\n",
    "1, 2, 3, 5, 8, 13, 21, 34, 55, 89, ...\n",
    "짝수이면서 4백만 이하인 모든 항을 더하면 얼마가 됩니까?"
   ]
  },
  {
   "cell_type": "code",
   "execution_count": 33,
   "metadata": {
    "collapsed": false
   },
   "outputs": [
    {
     "name": "stdout",
     "output_type": "stream",
     "text": [
      "1 1 2 3 5 8 13 21 34 55 89 144 233 377 610 987 1597 2584 4181 6765 10946 17711 28657 46368 75025 121393 196418 317811 514229 832040 1346269 2178309 done\n",
      "result =  4613732\n"
     ]
    }
   ],
   "source": [
    "num = 0\n",
    "num2 = 1\n",
    "result = 0\n",
    "\n",
    "while (1):\n",
    "    temp = num\n",
    "    num = num2\n",
    "    num2 = temp + num2\n",
    "    if num % 2 == 0:\n",
    "        result = result + num\n",
    "    if result >= 4000000:\n",
    "        break\n",
    "    print num,\n",
    "print 'done'\n",
    "print 'result = ', result\n",
    "    "
   ]
  },
  {
   "cell_type": "markdown",
   "metadata": {},
   "source": [
    "피보나치수열의 첫번째 숫자를 num 두번째숫자를 num2로 둡니다. while문안에 변수 temp를 생성하여 num2의 값을 num으로 num2에는 num+num2의 값을\n",
    "다시 입력하고 만약 num이 2로 나누어질경우 result에 num을 계속 더해줍니다. 만약 result가 범위 400만을 넘어가면 break시킨 후 \n",
    "최종result값을 출력합니다."
   ]
  },
  {
   "cell_type": "markdown",
   "metadata": {},
   "source": [
    "오일러 퀴즈 (3)\n",
    "어떤 수를 소수의 곱으로만 나타내는 것을 소인수분해라 하고, 이 소수들을 그 수의 소인수라고 합니다.\n",
    "예를 들면 13195의 소인수는 5, 7, 13, 29 입니다.\n",
    "\n",
    "600851475143의 소인수 중에서 가장 큰 수를 구하세요."
   ]
  },
  {
   "cell_type": "code",
   "execution_count": 34,
   "metadata": {
    "collapsed": false
   },
   "outputs": [
    {
     "name": "stdout",
     "output_type": "stream",
     "text": [
      "result =  6857\n"
     ]
    }
   ],
   "source": [
    "bigdata = 600851475143\n",
    "judgement = 2;\n",
    "result = 0\n",
    "\n",
    "for num in range(0,10000000):\n",
    "    if bigdata % judgement == 0:\n",
    "        if judgement > result:\n",
    "            result = judgement\n",
    "        bigdata = bigdata / judgement\n",
    "    else:\n",
    "        judgement = judgement + 1\n",
    "print 'result = ', result "
   ]
  },
  {
   "cell_type": "markdown",
   "metadata": {},
   "source": [
    "먼저 소인수의 범위를 1000만까지로 대략 설정해 두고 \n",
    "만약 bigdata가 판단값으로 나누어질때, 만약 판단값이 result보다 클 경우\n",
    "result에 판단값을 넣고 bigdata를 판단값으로 나눠서 다시 저장합니다.\n",
    "bigdata가 판단값으로 나누어지지 않을 경우 판단값에 1을 더한뒤 다시 for문을\n",
    "시작합니다. 1000만까지 간 이후 최종 result값이 가장 큰 소인수값이 됩니다."
   ]
  },
  {
   "cell_type": "markdown",
   "metadata": {},
   "source": [
    "고찰\n",
    "- ipython notebook 자체에서 in[*] 이 떠서 결과창이  출력이 되지 않는 현상이 많았습니다. 다행히 파일을 저장해놓고 다시 ipython notebook을 켜서\n",
    "하긴 했지만 많이 번거로웠었습니다. \n",
    "- 평소에 배워왔던 java나 c++과 다르게 함수들이 상당히 함축적이어서 문법에 맞게 쓰기가 상당히 힘들었었습니다. 연습을 많이 해야 할 것 같습니다.\n",
    "- link.kut.ac.kr 사이트에서 e-learning 노트나 문제를 누르려고 하면 503번 에러가 지속적으로 뜨면서 접속이 불가능했습니다. 서버다운문제를 빨리\n",
    "처리해 주시면 정말 감사하겠습니다.\n",
    "- 파이썬은 뭔가 생소한 언어를 배우는 느낌이 듭니다. 상당히 재밋게 공부하고 있습니다. :)"
   ]
  }
 ],
 "metadata": {
  "kernelspec": {
   "display_name": "Python 2",
   "language": "python",
   "name": "python2"
  },
  "language_info": {
   "codemirror_mode": {
    "name": "ipython",
    "version": 2
   },
   "file_extension": ".py",
   "mimetype": "text/x-python",
   "name": "python",
   "nbconvert_exporter": "python",
   "pygments_lexer": "ipython2",
   "version": "2.7.9"
  }
 },
 "nbformat": 4,
 "nbformat_minor": 0
}
